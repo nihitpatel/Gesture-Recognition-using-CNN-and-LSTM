{
 "cells": [
  {
   "cell_type": "markdown",
   "metadata": {
    "id": "GoN-5LbdQut4"
   },
   "source": [
    "## <font color='green'> Deep Learning Course Project - Gesture Recognition </font>\n",
    "\n",
    "### Problem Statement\n",
    "Imagine you are working as a data scientist at a home electronics company which manufactures state of the art smart televisions. You want to develop a cool feature in the smart-TV that can recognise five different gestures performed by the user which will help users control the TV without using a remote.\n",
    "\n",
    "The gestures are continuously monitored by the webcam mounted on the TV. Each gesture corresponds to a specific command:\n",
    " \n",
    "| Gesture | Corresponding Action |\n",
    "| --- | --- | \n",
    "| Thumbs Up | Increase the volume. |\n",
    "| Thumbs Down | Decrease the volume. |\n",
    "| Left Swipe | 'Jump' backwards 10 seconds. |\n",
    "| Right Swipe | 'Jump' forward 10 seconds. |\n",
    "| Stop | Pause the movie. |\n",
    "\n",
    "Each video is a sequence of 30 frames (or images).\n",
    "\n",
    "### Objectives:\n",
    "1. **Generator**:  The generator should be able to take a batch of videos as input without any error. Steps like cropping, resizing and normalization should be performed successfully.\n",
    "\n",
    "2. **Model**: Develop a model that is able to train without any errors which will be judged on the total number of parameters (as the inference(prediction) time should be less) and the accuracy achieved. As suggested by Snehansu, start training on a small amount of data and then proceed further.\n",
    "\n",
    "3. **Write up**: This should contain the detailed procedure followed in choosing the final model. The write up should start with the reason for choosing the base model, then highlight the reasons and metrics taken into consideration to modify and experiment to arrive at the final model. \n",
    "\n",
    "\n",
    "### Developed by:\n",
    "##### 1. Niranjana Mangaleswaran - Group facilitator\n",
    "##### 2. Nihit Patel"
   ]
  },
  {
   "cell_type": "code",
   "execution_count": 64,
   "metadata": {
    "id": "jeGQRBStQut9"
   },
   "outputs": [],
   "source": [
    "# Importing the necessary libraries\n",
    "\n",
    "import numpy as np\n",
    "import os\n",
    "from imageio import imread\n",
    "from skimage.transform import resize as imresize\n",
    "import datetime\n",
    "import os\n",
    "import warnings\n",
    "warnings.filterwarnings(\"ignore\")"
   ]
  },
  {
   "cell_type": "markdown",
   "metadata": {
    "id": "c-ZnKt6yQut_"
   },
   "source": [
    "We set the random seed so that the results can be reproduced."
   ]
  },
  {
   "cell_type": "code",
   "execution_count": 65,
   "metadata": {
    "id": "bsLLMsXJQuuA"
   },
   "outputs": [],
   "source": [
    "np.random.seed(30)\n",
    "import random as rn\n",
    "rn.seed(30)\n",
    "from keras import backend as K\n",
    "import tensorflow as tf\n",
    "tf.random.set_seed(30)"
   ]
  },
  {
   "cell_type": "code",
   "execution_count": 66,
   "metadata": {
    "id": "DQ0pEbZ2QuuB"
   },
   "outputs": [],
   "source": [
    "import cv2\n",
    "import matplotlib.pyplot as plt\n",
    "% matplotlib inline"
   ]
  },
  {
   "cell_type": "markdown",
   "metadata": {
    "id": "vyEqvDjjQuuE"
   },
   "source": [
    "In this block, you read the folder names for training and validation. You also set the `batch_size` here. Note that you set the batch size in such a way that you are able to use the GPU in full capacity. You keep increasing the batch size until the machine throws an error."
   ]
  },
  {
   "cell_type": "code",
   "execution_count": 67,
   "metadata": {
    "id": "nh-2L94wQuuF"
   },
   "outputs": [],
   "source": [
    "# importing some other libraries which will be needed for model building.\n",
    "\n",
    "from keras.models import Sequential, Model\n",
    "from keras.layers import Dense, GRU, Flatten, TimeDistributed, Flatten, BatchNormalization, Activation\n",
    "from keras.layers.convolutional import Conv3D, MaxPooling3D, Conv2D, MaxPooling2D\n",
    "from keras.layers.recurrent import LSTM\n",
    "from keras.callbacks import ModelCheckpoint, ReduceLROnPlateau, EarlyStopping\n",
    "from keras import optimizers\n",
    "from keras.layers import Dropout"
   ]
  },
  {
   "cell_type": "code",
   "execution_count": 69,
   "metadata": {
    "colab": {
     "base_uri": "https://localhost:8080/"
    },
    "id": "zhWwHE7_RH5L",
    "outputId": "052f24fe-e32f-4434-ccbe-30f9bcab2dae"
   },
   "outputs": [
    {
     "name": "stdout",
     "output_type": "stream",
     "text": [
      "Drive already mounted at /content/gdrive; to attempt to forcibly remount, call drive.mount(\"/content/gdrive\", force_remount=True).\n"
     ]
    }
   ],
   "source": [
    "from google.colab import drive\n",
    "drive.mount('/content/gdrive')\n",
    "\n",
    "root_path = '/content/gdrive/My Drive/Upgrad/Gesture Recognition/Project_data' \n",
    "#root_path = '..\\Gesture-Recognition-Case-study-IIITB-Assignment--master\\Project_data' <---- Local path\n",
    "\n",
    "#!unzip '/content/gdrive/My Drive/Upgrad/Project_data.zip' -d '/content/gdrive/My Drive/Upgrad/Gesture Recognition'\n"
   ]
  },
  {
   "cell_type": "markdown",
   "metadata": {
    "id": "n7Tx1H48QuuJ"
   },
   "source": [
    "## Generator\n",
    "This is one of the most important part of the code. The overall structure of the generator has been given. In the generator, you are going to preprocess the images as you have images of 2 different dimensions as well as create a batch of video frames. You have to experiment with `img_idx`, `y`,`z` and normalization such that you get high accuracy."
   ]
  },
  {
   "cell_type": "code",
   "execution_count": 70,
   "metadata": {
    "id": "Lx26AW-nQuuL"
   },
   "outputs": [],
   "source": [
    "def generator(source_path, folder_list, batch_size):\n",
    "    print( 'Source path = ', source_path, '; batch size =', batch_size)\n",
    "    img_idx = np.round(np.linspace(0,total_frames-1,frames_to_sample)).astype(int)\n",
    "\n",
    "    while True:\n",
    "        t = np.random.permutation(folder_list)\n",
    "        num_batches = batch_size\n",
    "        for batch in range(num_batches): # we iterate over the number of batches\n",
    "            batch_data = np.zeros((batch_size,len(img_idx),image_height,image_width,3)) # x is the number of images you use for each video, (y,z) is the final size of the input images and 3 is the number of channels RGB\n",
    "            batch_labels = np.zeros((batch_size,5)) # batch_labels is the one hot representation of the output\n",
    "            for folder in range(batch_size): # iterate over the batch_size\n",
    "                imgs = os.listdir(source_path+'/'+ t[folder + (batch*batch_size)].split(';')[0]) # read all the images in the folder\n",
    "                for idx,item in enumerate(img_idx): #  Iterate iver the frames/images of a folder to read them in\n",
    "                    image = imread(source_path+'/'+ t[folder + (batch*batch_size)].strip().split(';')[0]+'/'+imgs[item]).astype(np.float32)\n",
    "                    \n",
    "                    # image_resized=imresize(image,(image_height,image_width,3))\n",
    "                    \n",
    "                    gray = cv2.cvtColor(image,cv2.COLOR_BGR2GRAY)\n",
    "                    x0, y0 = np.argwhere(gray > 0).min(axis=0)\n",
    "                    x1, y1 = np.argwhere(gray > 0).max(axis=0) \n",
    "                    cropped=image[x0:x1,y0:y1,:]\n",
    "                    image_resized=imresize(cropped,(self.image_height,self.image_width,3))\n",
    "                    #crop the images and resize them. Note that the images are of 2 different shape \n",
    "                    #and the conv3D will throw error if the inputs in a batch have different shapes\n",
    "                    \n",
    "                    batch_data[folder,idx,:,:,0] = (image_resized[:,:,0])/255.0\n",
    "                    batch_data[folder,idx,:,:,1] = (image_resized[:,:,1])/255.0\n",
    "                    batch_data[folder,idx,:,:,2] = (image_resized[:,:,2])/255.0\n",
    "                    \n",
    "                batch_labels[folder, int(t[folder + (batch*batch_size)].strip().split(';')[2])] = 1\n",
    "            yield batch_data, batch_labels #you yield the batch_data and the batch_labels, remember what does yield do\n",
    "\n",
    "        \n",
    "        # write the code for the remaining data points which are left after full batches\n",
    "        batch_size = len(folder_list) - (batch_size*num_batches)\n",
    "        batch_data = np.zeros((batch_size,len(img_idx),image_height,image_width,3)) # x is the number of images you use for each video, (y,z) is the final size of the input images and 3 is the number of channels RGB\n",
    "        batch_labels = np.zeros((batch_size,5)) # batch_labels is the one hot representation of the output\n",
    "        for folder in range(batch_size): # iterate over the batch_size\n",
    "            imgs = os.listdir(source_path+'/'+ t[folder + (batch*batch_size)].split(';')[0]) # read all the images in the folder\n",
    "            for idx,item in enumerate(img_idx): #  Iterate iver the frames/images of a folder to read them in\n",
    "                image = imread(source_path+'/'+ t[folder + (batch*batch_size)].strip().split(';')[0]+'/'+imgs[item]).astype(np.float32)\n",
    "                \n",
    "                # image_resized=imresize(image,(image_height,image_width,3))\n",
    "                \n",
    "                gray = cv2.cvtColor(image,cv2.COLOR_BGR2GRAY)\n",
    "                x0, y0 = np.argwhere(gray > 0).min(axis=0)\n",
    "                x1, y1 = np.argwhere(gray > 0).max(axis=0) \n",
    "                cropped=image[x0:x1,y0:y1,:]\n",
    "                image_resized=imresize(cropped,(self.image_height,self.image_width,3))\n",
    "                #crop the images and resize them. Note that the images are of 2 different shape \n",
    "                #and the conv3D will throw error if the inputs in a batch have different shapes\n",
    "                \n",
    "                batch_data[folder,idx,:,:,0] = (image_resized[:,:,0])/255.0\n",
    "                batch_data[folder,idx,:,:,1] = (image_resized[:,:,1])/255.0\n",
    "                batch_data[folder,idx,:,:,2] = (image_resized[:,:,2])/255.0\n",
    "                \n",
    "            batch_labels[folder, int(t[folder + (batch*batch_size)].strip().split(';')[2])] = 1\n",
    "        yield batch_data, batch_labels #you yield the batch_data and the batch_labels, remember what does yield do\n"
   ]
  },
  {
   "cell_type": "markdown",
   "metadata": {
    "id": "3oL6OhbyQuuO"
   },
   "source": [
    "## Model\n",
    "Here you make the model using different functionalities that Keras provides. Remember to use `Conv3D` and `MaxPooling3D` and not `Conv2D` and `Maxpooling2D` for a 3D convolution model. You would want to use `TimeDistributed` while building a Conv2D + RNN model. Also remember that the last layer is the softmax. Design the network in such a way that the model is able to give good accuracy on the least number of parameters so that it can fit in the memory of the webcam."
   ]
  },
  {
   "cell_type": "code",
   "execution_count": 71,
   "metadata": {
    "colab": {
     "base_uri": "https://localhost:8080/"
    },
    "id": "2XaIAtZbQuuP",
    "outputId": "cfbb2aa6-47dd-4b3f-9e01-b2fff56adb71"
   },
   "outputs": [
    {
     "name": "stdout",
     "output_type": "stream",
     "text": [
      "# training sequences = 663\n",
      "# validation sequences = 100\n"
     ]
    }
   ],
   "source": [
    "\n",
    "\n",
    "train_doc = np.random.permutation(open(root_path + '/train.csv').readlines())\n",
    "val_doc = np.random.permutation(open(root_path + '/val.csv').readlines())\n",
    "\n",
    "\n",
    "curr_dt_time = datetime.datetime.now()\n",
    "train_path = root_path + '/train'\n",
    "val_path = root_path + '/val'\n",
    "num_train_sequences = len(train_doc)\n",
    "print('# training sequences =', num_train_sequences)\n",
    "num_val_sequences = len(val_doc)\n",
    "print('# validation sequences =', num_val_sequences)\n",
    "num_classes = 5\n",
    "total_frames = 30"
   ]
  },
  {
   "cell_type": "markdown",
   "metadata": {
    "id": "YEDvLyfrQuuR"
   },
   "source": [
    "## Sample Model"
   ]
  },
  {
   "cell_type": "code",
   "execution_count": 72,
   "metadata": {
    "id": "PKXrszo7QuuR"
   },
   "outputs": [],
   "source": [
    "\n",
    "image_height = 160\n",
    "image_width = 160\n",
    "frames_to_sample = 30\n",
    "batch_size = 40\n",
    "num_epochs = 1\n",
    "\n",
    "\n",
    "model = Sequential()\n",
    "model.add(Conv3D(16, (3, 3, 3), padding='same',\n",
    "         input_shape=(frames_to_sample,image_height,image_width,3)))\n",
    "model.add(Activation('relu'))\n",
    "model.add(BatchNormalization())\n",
    "model.add(MaxPooling3D(pool_size=(2, 2, 2)))\n",
    "\n",
    "model.add(Conv3D(32, (2, 2, 2), padding='same'))\n",
    "model.add(Activation('relu'))\n",
    "model.add(BatchNormalization())\n",
    "model.add(MaxPooling3D(pool_size=(2, 2, 2)))\n",
    "\n",
    "model.add(Conv3D(64, (2, 2, 2), padding='same'))\n",
    "model.add(Activation('relu'))\n",
    "model.add(BatchNormalization())\n",
    "model.add(MaxPooling3D(pool_size=(2, 2, 2)))\n",
    "\n",
    "model.add(Conv3D(128, (2, 2, 2), padding='same'))\n",
    "model.add(Activation('relu'))\n",
    "model.add(BatchNormalization())\n",
    "model.add(MaxPooling3D(pool_size=(2, 2, 2)))\n",
    "\n",
    "model.add(Flatten())\n",
    "model.add(Dense(128,activation='relu'))\n",
    "model.add(BatchNormalization())\n",
    "model.add(Dropout(0.5))\n",
    "\n",
    "model.add(Dense(64,activation='relu'))\n",
    "model.add(BatchNormalization())\n",
    "model.add(Dropout(0.25))\n",
    "\n",
    "\n",
    "model.add(Dense(num_classes,activation='softmax'))\n"
   ]
  },
  {
   "cell_type": "code",
   "execution_count": 73,
   "metadata": {
    "colab": {
     "base_uri": "https://localhost:8080/"
    },
    "id": "78sEGpZPQuuS",
    "outputId": "0d446e13-07d3-4756-9fa7-78e6bb842e48",
    "scrolled": true
   },
   "outputs": [
    {
     "name": "stdout",
     "output_type": "stream",
     "text": [
      "Model: \"sequential_8\"\n",
      "_________________________________________________________________\n",
      "Layer (type)                 Output Shape              Param #   \n",
      "=================================================================\n",
      "conv3d_28 (Conv3D)           (None, 30, 160, 160, 16)  1312      \n",
      "_________________________________________________________________\n",
      "activation_28 (Activation)   (None, 30, 160, 160, 16)  0         \n",
      "_________________________________________________________________\n",
      "batch_normalization_47 (Batc (None, 30, 160, 160, 16)  64        \n",
      "_________________________________________________________________\n",
      "max_pooling3d_28 (MaxPooling (None, 15, 80, 80, 16)    0         \n",
      "_________________________________________________________________\n",
      "conv3d_29 (Conv3D)           (None, 15, 80, 80, 32)    4128      \n",
      "_________________________________________________________________\n",
      "activation_29 (Activation)   (None, 15, 80, 80, 32)    0         \n",
      "_________________________________________________________________\n",
      "batch_normalization_48 (Batc (None, 15, 80, 80, 32)    128       \n",
      "_________________________________________________________________\n",
      "max_pooling3d_29 (MaxPooling (None, 7, 40, 40, 32)     0         \n",
      "_________________________________________________________________\n",
      "conv3d_30 (Conv3D)           (None, 7, 40, 40, 64)     16448     \n",
      "_________________________________________________________________\n",
      "activation_30 (Activation)   (None, 7, 40, 40, 64)     0         \n",
      "_________________________________________________________________\n",
      "batch_normalization_49 (Batc (None, 7, 40, 40, 64)     256       \n",
      "_________________________________________________________________\n",
      "max_pooling3d_30 (MaxPooling (None, 3, 20, 20, 64)     0         \n",
      "_________________________________________________________________\n",
      "conv3d_31 (Conv3D)           (None, 3, 20, 20, 128)    65664     \n",
      "_________________________________________________________________\n",
      "activation_31 (Activation)   (None, 3, 20, 20, 128)    0         \n",
      "_________________________________________________________________\n",
      "batch_normalization_50 (Batc (None, 3, 20, 20, 128)    512       \n",
      "_________________________________________________________________\n",
      "max_pooling3d_31 (MaxPooling (None, 1, 10, 10, 128)    0         \n",
      "_________________________________________________________________\n",
      "flatten_8 (Flatten)          (None, 12800)             0         \n",
      "_________________________________________________________________\n",
      "dense_23 (Dense)             (None, 128)               1638528   \n",
      "_________________________________________________________________\n",
      "batch_normalization_51 (Batc (None, 128)               512       \n",
      "_________________________________________________________________\n",
      "dropout_16 (Dropout)         (None, 128)               0         \n",
      "_________________________________________________________________\n",
      "dense_24 (Dense)             (None, 64)                8256      \n",
      "_________________________________________________________________\n",
      "batch_normalization_52 (Batc (None, 64)                256       \n",
      "_________________________________________________________________\n",
      "dropout_17 (Dropout)         (None, 64)                0         \n",
      "_________________________________________________________________\n",
      "dense_25 (Dense)             (None, 5)                 325       \n",
      "=================================================================\n",
      "Total params: 1,736,389\n",
      "Trainable params: 1,735,525\n",
      "Non-trainable params: 864\n",
      "_________________________________________________________________\n",
      "None\n"
     ]
    }
   ],
   "source": [
    "optimiser = tf.keras.optimizers.Adam(lr=0.0002)\n",
    "model.compile(optimizer=optimiser, loss='categorical_crossentropy', metrics=['categorical_accuracy'])\n",
    "print (model.summary())"
   ]
  },
  {
   "cell_type": "code",
   "execution_count": 74,
   "metadata": {
    "id": "aXueRV2pQuuV"
   },
   "outputs": [],
   "source": [
    "model_name = root_path + '/model_init' + '_' + str(curr_dt_time).replace(' ','').replace(':','_') + '/'\n",
    "    \n",
    "if not os.path.exists(model_name):\n",
    "    os.mkdir(model_name)\n",
    "        \n",
    "filepath = model_name + 'model-{epoch:05d}-{loss:.5f}-{categorical_accuracy:.5f}-{val_loss:.5f}-{val_categorical_accuracy:.5f}.h5'\n",
    "\n",
    "checkpoint = ModelCheckpoint(filepath, monitor='val_loss', verbose=1, save_best_only=False, save_weights_only=False, mode='auto', save_freq=1)\n",
    "\n",
    "LR = ReduceLROnPlateau(monitor='val_loss', factor=0.2, verbose=1, patience=4)\n",
    "callbacks_list = [checkpoint, LR]"
   ]
  },
  {
   "cell_type": "code",
   "execution_count": 75,
   "metadata": {
    "id": "qvOt0lMMQuuV"
   },
   "outputs": [],
   "source": [
    "if (num_train_sequences%batch_size) == 0:\n",
    "    steps_per_epoch = int(num_train_sequences/batch_size)\n",
    "else:\n",
    "    steps_per_epoch = (num_train_sequences//batch_size) + 1\n",
    "\n",
    "if (num_val_sequences%batch_size) == 0:\n",
    "    validation_steps = int(num_val_sequences/batch_size)\n",
    "else:\n",
    "    validation_steps = (num_val_sequences//batch_size) + 1"
   ]
  },
  {
   "cell_type": "code",
   "execution_count": 76,
   "metadata": {
    "id": "1IlR07gOQuuW"
   },
   "outputs": [],
   "source": [
    "# train_generator = generator(train_path, train_doc, batch_size)\n",
    "# val_generator = generator(val_path, val_doc, batch_size)\n",
    "\n",
    "\n",
    "# model.fit(train_generator, steps_per_epoch=steps_per_epoch, epochs=num_epochs, verbose=1, \n",
    "#                     callbacks=callbacks_list, validation_data=val_generator, \n",
    "#                     validation_steps=validation_steps, class_weight=None, workers=1, initial_epoch=0)"
   ]
  },
  {
   "cell_type": "markdown",
   "metadata": {
    "id": "2pwZRTnxQuuX"
   },
   "source": [
    "### We had hit the limit on memory resources with image resolution of 160x160 with 30 frames and batch_size of 40\n"
   ]
  },
  {
   "cell_type": "markdown",
   "metadata": {
    "collapsed": true,
    "id": "O_yB69aVQuuY"
   },
   "source": [
    "Let us see how training time is affected by change in image resolution, number of images in sequence and batch size"
   ]
  },
  {
   "cell_type": "markdown",
   "metadata": {
    "id": "6P2wyzPoQuuY"
   },
   "source": [
    "- After some experiments, we noted that **\"image resolution\"** and **number of frames** in sequence have more impact on training time than **batch_size**\n",
    "- We can consider the Batch Size around 20-40\n",
    "- We will used number of frames less than 20\n",
    "- We will change the resoulution 160 x 160, 120 x 120 according to the model performance\n"
   ]
  },
  {
   "cell_type": "markdown",
   "metadata": {
    "id": "ZhWMurmwQuuZ"
   },
   "source": [
    "## Model 1\n",
    "### Base Model - Batch Size = 40 and No. of Epochs = 15"
   ]
  },
  {
   "cell_type": "code",
   "execution_count": 77,
   "metadata": {
    "id": "UJ5wugjiQuua"
   },
   "outputs": [],
   "source": [
    "\n",
    "image_height = 160\n",
    "image_width = 160\n",
    "frames_to_sample = 20\n",
    "batch_size = 40\n",
    "num_epochs = 15\n",
    "\n",
    "model = Sequential()\n",
    "model.add(Conv3D(16, (3,3,3), padding='same',\n",
    "          input_shape=(frames_to_sample,image_height,image_width,3)))\n",
    "model.add(Activation('relu'))\n",
    "model.add(BatchNormalization())\n",
    "model.add(MaxPooling3D(pool_size=(2, 2, 2)))\n",
    "\n",
    "model.add(Conv3D(32, (3,3,3), padding='same'))\n",
    "model.add(Activation('relu'))\n",
    "model.add(BatchNormalization())\n",
    "model.add(MaxPooling3D(pool_size=(2, 2, 2)))\n",
    "\n",
    "model.add(Conv3D(64, (3,3,3), padding='same'))\n",
    "model.add(Activation('relu'))\n",
    "model.add(BatchNormalization())\n",
    "model.add(MaxPooling3D(pool_size=(2, 2, 2)))\n",
    "\n",
    "model.add(Conv3D(128, (3,3,3), padding='same'))\n",
    "model.add(Activation('relu'))\n",
    "model.add(BatchNormalization())\n",
    "model.add(MaxPooling3D(pool_size=(2, 2, 2)))\n",
    "\n",
    "model.add(Flatten())\n",
    "model.add(Dense(64,activation='relu'))\n",
    "model.add(BatchNormalization())\n",
    "model.add(Dropout(0.25))\n",
    "\n",
    "model.add(Dense(64,activation='relu'))\n",
    "model.add(BatchNormalization())\n",
    "model.add(Dropout(0.25))\n",
    "\n",
    "\n",
    "model.add(Dense(num_classes,activation='softmax'))\n"
   ]
  },
  {
   "cell_type": "code",
   "execution_count": 78,
   "metadata": {
    "colab": {
     "base_uri": "https://localhost:8080/"
    },
    "id": "UBQyrfzuQuua",
    "outputId": "640dc5eb-448e-475b-8a08-0db9442f2502"
   },
   "outputs": [
    {
     "name": "stdout",
     "output_type": "stream",
     "text": [
      "Model: \"sequential_9\"\n",
      "_________________________________________________________________\n",
      "Layer (type)                 Output Shape              Param #   \n",
      "=================================================================\n",
      "conv3d_32 (Conv3D)           (None, 20, 160, 160, 16)  1312      \n",
      "_________________________________________________________________\n",
      "activation_32 (Activation)   (None, 20, 160, 160, 16)  0         \n",
      "_________________________________________________________________\n",
      "batch_normalization_53 (Batc (None, 20, 160, 160, 16)  64        \n",
      "_________________________________________________________________\n",
      "max_pooling3d_32 (MaxPooling (None, 10, 80, 80, 16)    0         \n",
      "_________________________________________________________________\n",
      "conv3d_33 (Conv3D)           (None, 10, 80, 80, 32)    13856     \n",
      "_________________________________________________________________\n",
      "activation_33 (Activation)   (None, 10, 80, 80, 32)    0         \n",
      "_________________________________________________________________\n",
      "batch_normalization_54 (Batc (None, 10, 80, 80, 32)    128       \n",
      "_________________________________________________________________\n",
      "max_pooling3d_33 (MaxPooling (None, 5, 40, 40, 32)     0         \n",
      "_________________________________________________________________\n",
      "conv3d_34 (Conv3D)           (None, 5, 40, 40, 64)     55360     \n",
      "_________________________________________________________________\n",
      "activation_34 (Activation)   (None, 5, 40, 40, 64)     0         \n",
      "_________________________________________________________________\n",
      "batch_normalization_55 (Batc (None, 5, 40, 40, 64)     256       \n",
      "_________________________________________________________________\n",
      "max_pooling3d_34 (MaxPooling (None, 2, 20, 20, 64)     0         \n",
      "_________________________________________________________________\n",
      "conv3d_35 (Conv3D)           (None, 2, 20, 20, 128)    221312    \n",
      "_________________________________________________________________\n",
      "activation_35 (Activation)   (None, 2, 20, 20, 128)    0         \n",
      "_________________________________________________________________\n",
      "batch_normalization_56 (Batc (None, 2, 20, 20, 128)    512       \n",
      "_________________________________________________________________\n",
      "max_pooling3d_35 (MaxPooling (None, 1, 10, 10, 128)    0         \n",
      "_________________________________________________________________\n",
      "flatten_9 (Flatten)          (None, 12800)             0         \n",
      "_________________________________________________________________\n",
      "dense_26 (Dense)             (None, 64)                819264    \n",
      "_________________________________________________________________\n",
      "batch_normalization_57 (Batc (None, 64)                256       \n",
      "_________________________________________________________________\n",
      "dropout_18 (Dropout)         (None, 64)                0         \n",
      "_________________________________________________________________\n",
      "dense_27 (Dense)             (None, 64)                4160      \n",
      "_________________________________________________________________\n",
      "batch_normalization_58 (Batc (None, 64)                256       \n",
      "_________________________________________________________________\n",
      "dropout_19 (Dropout)         (None, 64)                0         \n",
      "_________________________________________________________________\n",
      "dense_28 (Dense)             (None, 5)                 325       \n",
      "=================================================================\n",
      "Total params: 1,117,061\n",
      "Trainable params: 1,116,325\n",
      "Non-trainable params: 736\n",
      "_________________________________________________________________\n",
      "None\n"
     ]
    }
   ],
   "source": [
    "optimiser = tf.keras.optimizers.Adam(lr=0.0002)\n",
    "model.compile(optimizer=optimiser, loss='categorical_crossentropy', metrics=['categorical_accuracy'])\n",
    "print (model.summary())"
   ]
  },
  {
   "cell_type": "code",
   "execution_count": 79,
   "metadata": {
    "colab": {
     "base_uri": "https://localhost:8080/"
    },
    "id": "gciX8oLcQuub",
    "outputId": "a0b81bf1-8112-4e0d-d5f3-20505e6a024b"
   },
   "outputs": [
    {
     "name": "stdout",
     "output_type": "stream",
     "text": [
      "Total Params: 1117061\n"
     ]
    }
   ],
   "source": [
    "train_generator = generator(train_path, train_doc, batch_size)\n",
    "val_generator = generator(val_path, val_doc, batch_size)\n",
    "\n",
    "\n",
    "\n",
    "print(\"Total Params:\", model.count_params())\n",
    "# model.fit(train_generator, steps_per_epoch=steps_per_epoch, epochs=num_epochs, verbose=1, \n",
    "#                     callbacks=callbacks_list, validation_data=val_generator, \n",
    "#                     validation_steps=validation_steps, class_weight=None, workers=1, initial_epoch=0)"
   ]
  },
  {
   "cell_type": "markdown",
   "metadata": {
    "id": "KQa7mLLMYiDQ"
   },
   "source": [
    "### <font color='red'>Note : I have copied the training output in Text Cell for convenience and for not training the model everytime I run the notebook. This saved a lot of my time in experimenting new things and refering to previous model performance. </font>\n",
    "\n",
    "\n",
    "```\n",
    "Total Params: 1117061\n",
    "Epoch 1/15\n",
    "17/17 [==============================] - 168s 10s/step - loss: 1.7374 - categorical_accuracy: 0.3746 - val_loss: 6.3520 - val_categorical_accuracy: 0.3200\n",
    "\n",
    "Epoch 2/15\n",
    "17/17 [==============================] - 55s 3s/step - loss: 1.2724 - categorical_accuracy: 0.5247 - val_loss: 3.1187 - val_categorical_accuracy: 0.2900\n",
    "\n",
    "Epoch 3/15\n",
    "17/17 [==============================] - 59s 3s/step - loss: 0.9921 - categorical_accuracy: 0.6158 - val_loss: 1.2044 - val_categorical_accuracy: 0.5100\n",
    "\n",
    "Epoch 4/15\n",
    "17/17 [==============================] - 58s 3s/step - loss: 0.7925 - categorical_accuracy: 0.7376 - val_loss: 0.8441 - val_categorical_accuracy: 0.6700\n",
    "\n",
    "Epoch 5/15\n",
    "17/17 [==============================] - 58s 3s/step - loss: 0.5836 - categorical_accuracy: 0.7768 - val_loss: 1.1775 - val_categorical_accuracy: 0.6300\n",
    "\n",
    "Epoch 6/15\n",
    "17/17 [==============================] - 59s 3s/step - loss: 0.4384 - categorical_accuracy: 0.8491 - val_loss: 0.9481 - val_categorical_accuracy: 0.6800\n",
    "\n",
    "Epoch 7/15\n",
    "17/17 [==============================] - 58s 3s/step - loss: 0.3369 - categorical_accuracy: 0.8831 - val_loss: 1.0296 - val_categorical_accuracy: 0.6400\n",
    "\n",
    "Epoch 8/15\n",
    "17/17 [==============================] - 59s 3s/step - loss: 0.2387 - categorical_accuracy: 0.9258 - val_loss: 0.9406 - val_categorical_accuracy: 0.6600\n",
    "\n",
    "Epoch 00008: ReduceLROnPlateau reducing learning rate to 0.00020000000949949026.\n",
    "Epoch 9/15\n",
    "17/17 [==============================] - 59s 3s/step - loss: 0.1887 - categorical_accuracy: 0.9424 - val_loss: 0.9321 - val_categorical_accuracy: 0.6900\n",
    "\n",
    "Epoch 10/15\n",
    "17/17 [==============================] - 58s 3s/step - loss: 0.1446 - categorical_accuracy: 0.9720 - val_loss: 0.8745 - val_categorical_accuracy: 0.7000\n",
    "\n",
    "Epoch 11/15\n",
    "17/17 [==============================] - 58s 3s/step - loss: 0.1322 - categorical_accuracy: 0.9720 - val_loss: 0.6898 - val_categorical_accuracy: 0.7800\n",
    "\n",
    "Epoch 12/15\n",
    "17/17 [==============================] - 59s 3s/step - loss: 0.1189 - categorical_accuracy: 0.9823 - val_loss: 0.6373 - val_categorical_accuracy: 0.8100\n",
    "\n",
    "Epoch 13/15\n",
    "17/17 [==============================] - 58s 3s/step - loss: 0.1126 - categorical_accuracy: 0.9823 - val_loss: 0.6135 - val_categorical_accuracy: 0.8000\n",
    "\n",
    "Epoch 14/15\n",
    "17/17 [==============================] - 59s 3s/step - loss: 0.0967 - categorical_accuracy: 0.9867 - val_loss: 0.5723 - val_categorical_accuracy: 0.7900\n",
    "\n",
    "Epoch 15/15\n",
    "17/17 [==============================] - 59s 3s/step - loss: 0.0870 - categorical_accuracy: 0.9926 - val_loss: 0.5564 - val_categorical_accuracy: 0.8200\n",
    "```\n",
    "\n"
   ]
  },
  {
   "cell_type": "markdown",
   "metadata": {
    "id": "2njzZYsPQuub"
   },
   "source": [
    "##### Model is Overfitting."
   ]
  },
  {
   "cell_type": "markdown",
   "metadata": {
    "id": "BqKjubTNQuuc"
   },
   "source": [
    "## Model 2\n",
    "\n",
    "- Adding dropout layers on Dense Layer\n",
    "- Reduce filter size to (2,2,2) \n",
    "- image res to 100 x  100\n",
    "- Batch Size = 30 \n",
    "- No. of Epochs = 20\n",
    "- Also, tried to make model with mininum parameters"
   ]
  },
  {
   "cell_type": "code",
   "execution_count": 80,
   "metadata": {
    "id": "Yt12Sm-_Quuc"
   },
   "outputs": [],
   "source": [
    "\n",
    "image_height = 100\n",
    "image_width = 100\n",
    "frames_to_sample = 16\n",
    "batch_size = 20\n",
    "num_epochs = 20\n",
    "\n",
    "model = Sequential()\n",
    "model.add(Conv3D(16, (3, 3, 3), padding='same',\n",
    "        input_shape=(frames_to_sample,image_height,image_width,3)))\n",
    "model.add(Activation('relu'))\n",
    "model.add(BatchNormalization())\n",
    "model.add(MaxPooling3D(pool_size=(2, 2, 2)))\n",
    "\n",
    "model.add(Conv3D(32, (2, 2, 2), padding='same'))\n",
    "model.add(Activation('relu'))\n",
    "model.add(BatchNormalization())\n",
    "model.add(MaxPooling3D(pool_size=(2, 2, 2)))\n",
    "\n",
    "model.add(Conv3D(64, (2, 2, 2), padding='same'))\n",
    "model.add(Activation('relu'))\n",
    "model.add(BatchNormalization())\n",
    "model.add(MaxPooling3D(pool_size=(2, 2, 2)))\n",
    "\n",
    "model.add(Conv3D(128, (2, 2, 2), padding='same'))\n",
    "model.add(Activation('relu'))\n",
    "model.add(BatchNormalization())\n",
    "model.add(MaxPooling3D(pool_size=(2, 2, 2)))\n",
    "\n",
    "model.add(Flatten())\n",
    "model.add(Dense(128,activation='relu'))\n",
    "model.add(BatchNormalization())\n",
    "model.add(Dropout(0.25))\n",
    "\n",
    "model.add(Dense(128,activation='relu'))\n",
    "model.add(BatchNormalization())\n",
    "model.add(Dropout(0.25))\n",
    "\n",
    "model.add(Dense(num_classes,activation='softmax'))\n"
   ]
  },
  {
   "cell_type": "code",
   "execution_count": 81,
   "metadata": {
    "colab": {
     "base_uri": "https://localhost:8080/"
    },
    "id": "Er-1lIFeQuud",
    "outputId": "0ca82c5c-4890-40ab-b39e-576db6bb0498"
   },
   "outputs": [
    {
     "name": "stdout",
     "output_type": "stream",
     "text": [
      "Model: \"sequential_10\"\n",
      "_________________________________________________________________\n",
      "Layer (type)                 Output Shape              Param #   \n",
      "=================================================================\n",
      "conv3d_36 (Conv3D)           (None, 16, 100, 100, 16)  1312      \n",
      "_________________________________________________________________\n",
      "activation_36 (Activation)   (None, 16, 100, 100, 16)  0         \n",
      "_________________________________________________________________\n",
      "batch_normalization_59 (Batc (None, 16, 100, 100, 16)  64        \n",
      "_________________________________________________________________\n",
      "max_pooling3d_36 (MaxPooling (None, 8, 50, 50, 16)     0         \n",
      "_________________________________________________________________\n",
      "conv3d_37 (Conv3D)           (None, 8, 50, 50, 32)     4128      \n",
      "_________________________________________________________________\n",
      "activation_37 (Activation)   (None, 8, 50, 50, 32)     0         \n",
      "_________________________________________________________________\n",
      "batch_normalization_60 (Batc (None, 8, 50, 50, 32)     128       \n",
      "_________________________________________________________________\n",
      "max_pooling3d_37 (MaxPooling (None, 4, 25, 25, 32)     0         \n",
      "_________________________________________________________________\n",
      "conv3d_38 (Conv3D)           (None, 4, 25, 25, 64)     16448     \n",
      "_________________________________________________________________\n",
      "activation_38 (Activation)   (None, 4, 25, 25, 64)     0         \n",
      "_________________________________________________________________\n",
      "batch_normalization_61 (Batc (None, 4, 25, 25, 64)     256       \n",
      "_________________________________________________________________\n",
      "max_pooling3d_38 (MaxPooling (None, 2, 12, 12, 64)     0         \n",
      "_________________________________________________________________\n",
      "conv3d_39 (Conv3D)           (None, 2, 12, 12, 128)    65664     \n",
      "_________________________________________________________________\n",
      "activation_39 (Activation)   (None, 2, 12, 12, 128)    0         \n",
      "_________________________________________________________________\n",
      "batch_normalization_62 (Batc (None, 2, 12, 12, 128)    512       \n",
      "_________________________________________________________________\n",
      "max_pooling3d_39 (MaxPooling (None, 1, 6, 6, 128)      0         \n",
      "_________________________________________________________________\n",
      "flatten_10 (Flatten)         (None, 4608)              0         \n",
      "_________________________________________________________________\n",
      "dense_29 (Dense)             (None, 128)               589952    \n",
      "_________________________________________________________________\n",
      "batch_normalization_63 (Batc (None, 128)               512       \n",
      "_________________________________________________________________\n",
      "dropout_20 (Dropout)         (None, 128)               0         \n",
      "_________________________________________________________________\n",
      "dense_30 (Dense)             (None, 128)               16512     \n",
      "_________________________________________________________________\n",
      "batch_normalization_64 (Batc (None, 128)               512       \n",
      "_________________________________________________________________\n",
      "dropout_21 (Dropout)         (None, 128)               0         \n",
      "_________________________________________________________________\n",
      "dense_31 (Dense)             (None, 5)                 645       \n",
      "=================================================================\n",
      "Total params: 696,645\n",
      "Trainable params: 695,653\n",
      "Non-trainable params: 992\n",
      "_________________________________________________________________\n",
      "None\n"
     ]
    }
   ],
   "source": [
    "optimiser = tf.keras.optimizers.Adam(lr=0.0002)\n",
    "model.compile(optimizer=optimiser, loss='categorical_crossentropy', metrics=['categorical_accuracy'])\n",
    "print (model.summary())"
   ]
  },
  {
   "cell_type": "code",
   "execution_count": 82,
   "metadata": {
    "colab": {
     "base_uri": "https://localhost:8080/"
    },
    "id": "mcKYPfQHQuue",
    "outputId": "cbe516b3-b481-4d1c-e627-e03fb69b3cd3"
   },
   "outputs": [
    {
     "name": "stdout",
     "output_type": "stream",
     "text": [
      "Total Params: 696645\n"
     ]
    }
   ],
   "source": [
    "train_generator = generator(train_path, train_doc, batch_size)\n",
    "val_generator = generator(val_path, val_doc, batch_size)\n",
    "\n",
    "print(\"Total Params:\", model.count_params())\n",
    "# model.fit(train_generator, steps_per_epoch=steps_per_epoch, epochs=num_epochs, verbose=1, \n",
    "#                     callbacks=callbacks_list, validation_data=val_generator, \n",
    "#                     validation_steps=validation_steps, class_weight=None, workers=1, initial_epoch=0)"
   ]
  },
  {
   "cell_type": "markdown",
   "metadata": {
    "id": "tFLduTQjX9Ag"
   },
   "source": [
    "```\n",
    "Total Params: 696645\n",
    "Epoch 1/20\n",
    "34/34 [==============================] - 88s 3s/step - loss: 1.8166 - categorical_accuracy: 0.3561 - val_loss: 1.2759 - val_categorical_accuracy: 0.5000\n",
    "\n",
    "Epoch 2/20\n",
    "34/34 [==============================] - 78s 2s/step - loss: 1.2129 - categorical_accuracy: 0.5342 - val_loss: 0.8633 - val_categorical_accuracy: 0.6600\n",
    "\n",
    "Epoch 3/20\n",
    "34/34 [==============================] - 83s 2s/step - loss: 0.9788 - categorical_accuracy: 0.6152 - val_loss: 1.1551 - val_categorical_accuracy: 0.5800\n",
    "\n",
    "Epoch 4/20\n",
    "34/34 [==============================] - 83s 2s/step - loss: 0.8827 - categorical_accuracy: 0.6589 - val_loss: 0.9667 - val_categorical_accuracy: 0.6500\n",
    "\n",
    "Epoch 5/20\n",
    "34/34 [==============================] - 83s 2s/step - loss: 0.7812 - categorical_accuracy: 0.6961 - val_loss: 0.8326 - val_categorical_accuracy: 0.7300\n",
    "\n",
    "Epoch 6/20\n",
    "34/34 [==============================] - 83s 2s/step - loss: 0.7510 - categorical_accuracy: 0.7108 - val_loss: 0.9504 - val_categorical_accuracy: 0.6300\n",
    "\n",
    "Epoch 7/20\n",
    "34/34 [==============================] - 83s 2s/step - loss: 0.6567 - categorical_accuracy: 0.7546 - val_loss: 1.0235 - val_categorical_accuracy: 0.6400\n",
    "\n",
    "Epoch 8/20\n",
    "34/34 [==============================] - 82s 2s/step - loss: 0.5885 - categorical_accuracy: 0.7789 - val_loss: 1.3001 - val_categorical_accuracy: 0.5900\n",
    "\n",
    "Epoch 9/20\n",
    "34/34 [==============================] - 82s 2s/step - loss: 0.5872 - categorical_accuracy: 0.7862 - val_loss: 0.9069 - val_categorical_accuracy: 0.7100\n",
    "\n",
    "Epoch 00009: ReduceLROnPlateau reducing learning rate to 3.9999998989515007e-05.\n",
    "Epoch 10/20\n",
    "34/34 [==============================] - 82s 2s/step - loss: 0.5001 - categorical_accuracy: 0.8278 - val_loss: 0.8944 - val_categorical_accuracy: 0.6900\n",
    "\n",
    "Epoch 11/20\n",
    "34/34 [==============================] - 83s 2s/step - loss: 0.4845 - categorical_accuracy: 0.8260 - val_loss: 0.8720 - val_categorical_accuracy: 0.7100\n",
    "\n",
    "Epoch 12/20\n",
    "34/34 [==============================] - 83s 2s/step - loss: 0.4514 - categorical_accuracy: 0.8484 - val_loss: 0.8168 - val_categorical_accuracy: 0.7400\n",
    "\n",
    "Epoch 13/20\n",
    "34/34 [==============================] - 82s 2s/step - loss: 0.4796 - categorical_accuracy: 0.8282 - val_loss: 0.8252 - val_categorical_accuracy: 0.7200\n",
    "\n",
    "Epoch 14/20\n",
    "34/34 [==============================] - 83s 2s/step - loss: 0.4373 - categorical_accuracy: 0.8311 - val_loss: 0.8192 - val_categorical_accuracy: 0.7100\n",
    "\n",
    "Epoch 15/20\n",
    "34/34 [==============================] - 82s 2s/step - loss: 0.4369 - categorical_accuracy: 0.8425 - val_loss: 0.8511 - val_categorical_accuracy: 0.7000\n",
    "\n",
    "Epoch 16/20\n",
    "34/34 [==============================] - 81s 2s/step - loss: 0.4420 - categorical_accuracy: 0.8480 - val_loss: 0.8697 - val_categorical_accuracy: 0.7000\n",
    "\n",
    "Epoch 00016: ReduceLROnPlateau reducing learning rate to 7.999999797903002e-06.\n",
    "Epoch 17/20\n",
    "34/34 [==============================] - 82s 2s/step - loss: 0.4032 - categorical_accuracy: 0.8543 - val_loss: 0.8671 - val_categorical_accuracy: 0.6900\n",
    "\n",
    "Epoch 18/20\n",
    "34/34 [==============================] - 82s 2s/step - loss: 0.4000 - categorical_accuracy: 0.8628 - val_loss: 0.8660 - val_categorical_accuracy: 0.7000\n",
    "\n",
    "Epoch 19/20\n",
    "34/34 [==============================] - 81s 2s/step - loss: 0.3770 - categorical_accuracy: 0.8672 - val_loss: 0.8723 - val_categorical_accuracy: 0.6900\n",
    "\n",
    "Epoch 20/20\n",
    "34/34 [==============================] - 82s 2s/step - loss: 0.4180 - categorical_accuracy: 0.8455 - val_loss: 0.8609 - val_categorical_accuracy: 0.7000\n",
    "```\n",
    "\n"
   ]
  },
  {
   "cell_type": "markdown",
   "metadata": {
    "collapsed": true,
    "id": "2SGo1t5MQuuf"
   },
   "source": [
    "###### For the above model, we get the best validation accuracy of 72%"
   ]
  },
  {
   "cell_type": "markdown",
   "metadata": {
    "id": "wg6JiLwxQuuf"
   },
   "source": [
    "## Model 3 - Reducing the number of parameters again"
   ]
  },
  {
   "cell_type": "code",
   "execution_count": 83,
   "metadata": {
    "id": "mjZsf_8yQuuf"
   },
   "outputs": [],
   "source": [
    "image_height = 120\n",
    "image_width = 120\n",
    "frames_to_sample = 16\n",
    "batch_size = 20\n",
    "num_epochs = 25\n",
    "\n",
    "\n",
    "model = Sequential()\n",
    "model.add(Conv3D(16, (3, 3, 3), padding='same',\n",
    "         input_shape=(frames_to_sample,image_height,image_width,3)))\n",
    "model.add(Activation('relu'))\n",
    "model.add(BatchNormalization())\n",
    "model.add(MaxPooling3D(pool_size=(2, 2, 2)))\n",
    "\n",
    "model.add(Conv3D(32, (3, 3, 3), padding='same'))\n",
    "model.add(Activation('relu'))\n",
    "model.add(BatchNormalization())\n",
    "model.add(MaxPooling3D(pool_size=(2, 2, 2)))\n",
    "\n",
    "model.add(Conv3D(64, (2, 2, 2), padding='same'))\n",
    "model.add(Activation('relu'))\n",
    "model.add(BatchNormalization())\n",
    "model.add(MaxPooling3D(pool_size=(2, 2, 2)))\n",
    "\n",
    "model.add(Conv3D(128, (2, 2, 2), padding='same'))\n",
    "model.add(Activation('relu'))\n",
    "model.add(BatchNormalization())\n",
    "model.add(MaxPooling3D(pool_size=(2, 2, 2)))\n",
    "\n",
    "model.add(Flatten())\n",
    "model.add(Dense(64,activation='relu'))\n",
    "model.add(BatchNormalization())\n",
    "model.add(Dropout(0.25))\n",
    "\n",
    "model.add(Dense(64,activation='relu'))\n",
    "model.add(BatchNormalization())\n",
    "model.add(Dropout(0.25))\n",
    "\n",
    "model.add(Dense(num_classes,activation='softmax'))\n"
   ]
  },
  {
   "cell_type": "code",
   "execution_count": 84,
   "metadata": {
    "colab": {
     "base_uri": "https://localhost:8080/"
    },
    "id": "VPrGVplKQuug",
    "outputId": "e30d57f0-be1c-46c8-99cd-9fb42e059563"
   },
   "outputs": [
    {
     "name": "stdout",
     "output_type": "stream",
     "text": [
      "Model: \"sequential_11\"\n",
      "_________________________________________________________________\n",
      "Layer (type)                 Output Shape              Param #   \n",
      "=================================================================\n",
      "conv3d_40 (Conv3D)           (None, 16, 120, 120, 16)  1312      \n",
      "_________________________________________________________________\n",
      "activation_40 (Activation)   (None, 16, 120, 120, 16)  0         \n",
      "_________________________________________________________________\n",
      "batch_normalization_65 (Batc (None, 16, 120, 120, 16)  64        \n",
      "_________________________________________________________________\n",
      "max_pooling3d_40 (MaxPooling (None, 8, 60, 60, 16)     0         \n",
      "_________________________________________________________________\n",
      "conv3d_41 (Conv3D)           (None, 8, 60, 60, 32)     13856     \n",
      "_________________________________________________________________\n",
      "activation_41 (Activation)   (None, 8, 60, 60, 32)     0         \n",
      "_________________________________________________________________\n",
      "batch_normalization_66 (Batc (None, 8, 60, 60, 32)     128       \n",
      "_________________________________________________________________\n",
      "max_pooling3d_41 (MaxPooling (None, 4, 30, 30, 32)     0         \n",
      "_________________________________________________________________\n",
      "conv3d_42 (Conv3D)           (None, 4, 30, 30, 64)     16448     \n",
      "_________________________________________________________________\n",
      "activation_42 (Activation)   (None, 4, 30, 30, 64)     0         \n",
      "_________________________________________________________________\n",
      "batch_normalization_67 (Batc (None, 4, 30, 30, 64)     256       \n",
      "_________________________________________________________________\n",
      "max_pooling3d_42 (MaxPooling (None, 2, 15, 15, 64)     0         \n",
      "_________________________________________________________________\n",
      "conv3d_43 (Conv3D)           (None, 2, 15, 15, 128)    65664     \n",
      "_________________________________________________________________\n",
      "activation_43 (Activation)   (None, 2, 15, 15, 128)    0         \n",
      "_________________________________________________________________\n",
      "batch_normalization_68 (Batc (None, 2, 15, 15, 128)    512       \n",
      "_________________________________________________________________\n",
      "max_pooling3d_43 (MaxPooling (None, 1, 7, 7, 128)      0         \n",
      "_________________________________________________________________\n",
      "flatten_11 (Flatten)         (None, 6272)              0         \n",
      "_________________________________________________________________\n",
      "dense_32 (Dense)             (None, 64)                401472    \n",
      "_________________________________________________________________\n",
      "batch_normalization_69 (Batc (None, 64)                256       \n",
      "_________________________________________________________________\n",
      "dropout_22 (Dropout)         (None, 64)                0         \n",
      "_________________________________________________________________\n",
      "dense_33 (Dense)             (None, 64)                4160      \n",
      "_________________________________________________________________\n",
      "batch_normalization_70 (Batc (None, 64)                256       \n",
      "_________________________________________________________________\n",
      "dropout_23 (Dropout)         (None, 64)                0         \n",
      "_________________________________________________________________\n",
      "dense_34 (Dense)             (None, 5)                 325       \n",
      "=================================================================\n",
      "Total params: 504,709\n",
      "Trainable params: 503,973\n",
      "Non-trainable params: 736\n",
      "_________________________________________________________________\n",
      "None\n"
     ]
    }
   ],
   "source": [
    "optimiser = tf.keras.optimizers.Adam(lr=0.0002)\n",
    "model.compile(optimizer=optimiser, loss='categorical_crossentropy', metrics=['categorical_accuracy'])\n",
    "print (model.summary())"
   ]
  },
  {
   "cell_type": "code",
   "execution_count": 85,
   "metadata": {
    "colab": {
     "base_uri": "https://localhost:8080/"
    },
    "id": "lnDgpprjQuug",
    "outputId": "c54a2779-ba90-4a27-aea4-9b4e86f1194d"
   },
   "outputs": [
    {
     "name": "stdout",
     "output_type": "stream",
     "text": [
      "Total Params: 504709\n"
     ]
    }
   ],
   "source": [
    "train_generator = generator(train_path, train_doc, batch_size)\n",
    "val_generator = generator(val_path, val_doc, batch_size)\n",
    "\n",
    "\n",
    "print(\"Total Params:\", model.count_params())\n",
    "# model.fit(train_generator, steps_per_epoch=steps_per_epoch, epochs=num_epochs, verbose=1, \n",
    "#                     callbacks=callbacks_list, validation_data=val_generator, \n",
    "#                     validation_steps=validation_steps, class_weight=None, workers=1, initial_epoch=0)"
   ]
  },
  {
   "cell_type": "markdown",
   "metadata": {
    "id": "Vv7ksf2wVu6B"
   },
   "source": [
    "```\n",
    "Total Params: 504709\n",
    "Epoch 1/25\n",
    "34/34 [==============================] - 94s 3s/step - loss: 1.8774 - categorical_accuracy: 0.3297 - val_loss: 1.5298 - val_categorical_accuracy: 0.4900\n",
    "\n",
    "Epoch 2/25\n",
    "34/34 [==============================] - 85s 2s/step - loss: 1.3580 - categorical_accuracy: 0.4669 - val_loss: 1.1558 - val_categorical_accuracy: 0.6400\n",
    "\n",
    "Epoch 3/25\n",
    "34/34 [==============================] - 88s 3s/step - loss: 1.0833 - categorical_accuracy: 0.5721 - val_loss: 1.1209 - val_categorical_accuracy: 0.6400\n",
    "\n",
    "Epoch 4/25\n",
    "34/34 [==============================] - 88s 3s/step - loss: 0.9708 - categorical_accuracy: 0.6361 - val_loss: 1.1975 - val_categorical_accuracy: 0.5600\n",
    "\n",
    "Epoch 5/25\n",
    "34/34 [==============================] - 88s 3s/step - loss: 0.8890 - categorical_accuracy: 0.6519 - val_loss: 0.9010 - val_categorical_accuracy: 0.6700\n",
    "\n",
    "Epoch 6/25\n",
    "34/34 [==============================] - 88s 3s/step - loss: 0.8125 - categorical_accuracy: 0.7060 - val_loss: 1.0565 - val_categorical_accuracy: 0.5700\n",
    "\n",
    "Epoch 7/25\n",
    "34/34 [==============================] - 87s 3s/step - loss: 0.7671 - categorical_accuracy: 0.7016 - val_loss: 1.0278 - val_categorical_accuracy: 0.5800\n",
    "\n",
    "Epoch 8/25\n",
    "34/34 [==============================] - 87s 3s/step - loss: 0.7371 - categorical_accuracy: 0.7196 - val_loss: 1.0084 - val_categorical_accuracy: 0.6100\n",
    "\n",
    "Epoch 9/25\n",
    "34/34 [==============================] - 87s 3s/step - loss: 0.7135 - categorical_accuracy: 0.7366 - val_loss: 0.9790 - val_categorical_accuracy: 0.6800\n",
    "\n",
    "Epoch 00009: ReduceLROnPlateau reducing learning rate to 3.9999998989515007e-05.\n",
    "Epoch 10/25\n",
    "34/34 [==============================] - 87s 3s/step - loss: 0.6251 - categorical_accuracy: 0.7789 - val_loss: 0.9262 - val_categorical_accuracy: 0.6700\n",
    "\n",
    "Epoch 11/25\n",
    "34/34 [==============================] - 87s 3s/step - loss: 0.6021 - categorical_accuracy: 0.7682 - val_loss: 0.8882 - val_categorical_accuracy: 0.7000\n",
    "\n",
    "Epoch 12/25\n",
    "34/34 [==============================] - 87s 3s/step - loss: 0.6000 - categorical_accuracy: 0.7951 - val_loss: 0.9642 - val_categorical_accuracy: 0.7000\n",
    "\n",
    "Epoch 00012: val_loss did not improve from 0.88825\n",
    "Epoch 13/25\n",
    "34/34 [==============================] - 87s 3s/step - loss: 0.5035 - categorical_accuracy: 0.8197 - val_loss: 0.8826 - val_categorical_accuracy: 0.7200\n",
    "\n",
    "Epoch 14/25\n",
    "34/34 [==============================] - 87s 3s/step - loss: 0.5557 - categorical_accuracy: 0.8135 - val_loss: 0.8654 - val_categorical_accuracy: 0.7200\n",
    "\n",
    "Epoch 15/25\n",
    "34/34 [==============================] - 86s 3s/step - loss: 0.5353 - categorical_accuracy: 0.8050 - val_loss: 0.8720 - val_categorical_accuracy: 0.6900\n",
    "\n",
    "Epoch 16/25\n",
    "34/34 [==============================] - 87s 3s/step - loss: 0.5205 - categorical_accuracy: 0.8201 - val_loss: 0.8500 - val_categorical_accuracy: 0.7000\n",
    "\n",
    "Epoch 17/25\n",
    "34/34 [==============================] - 87s 3s/step - loss: 0.4962 - categorical_accuracy: 0.8252 - val_loss: 0.8223 - val_categorical_accuracy: 0.7800\n",
    "\n",
    "Epoch 18/25\n",
    "34/34 [==============================] - 87s 3s/step - loss: 0.4900 - categorical_accuracy: 0.8234 - val_loss: 0.8437 - val_categorical_accuracy: 0.7600\n",
    "\n",
    "Epoch 19/25\n",
    "34/34 [==============================] - 87s 3s/step - loss: 0.4763 - categorical_accuracy: 0.8385 - val_loss: 0.8304 - val_categorical_accuracy: 0.7600\n",
    "\n",
    "Epoch 20/25\n",
    "34/34 [==============================] - 87s 3s/step - loss: 0.4633 - categorical_accuracy: 0.8392 - val_loss: 0.8398 - val_categorical_accuracy: 0.7400\n",
    "\n",
    "Epoch 21/25\n",
    "34/34 [==============================] - 86s 3s/step - loss: 0.4653 - categorical_accuracy: 0.8293 - val_loss: 0.8438 - val_categorical_accuracy: 0.7300\n",
    "\n",
    "Epoch 00021: ReduceLROnPlateau reducing learning rate to 7.999999797903002e-06.\n",
    "Epoch 22/25\n",
    "34/34 [==============================] - 87s 3s/step - loss: 0.4392 - categorical_accuracy: 0.8462 - val_loss: 0.8471 - val_categorical_accuracy: 0.7300\n",
    "\n",
    "Epoch 23/25\n",
    "34/34 [==============================] - 87s 3s/step - loss: 0.4412 - categorical_accuracy: 0.8539 - val_loss: 0.8145 - val_categorical_accuracy: 0.7300\n",
    "\n",
    "Epoch 24/25\n",
    "34/34 [==============================] - 88s 3s/step - loss: 0.4527 - categorical_accuracy: 0.8458 - val_loss: 0.8000 - val_categorical_accuracy: 0.7400\n",
    "\n",
    "Epoch 25/25\n",
    "34/34 [==============================] - 88s 3s/step - loss: 0.5092 - categorical_accuracy: 0.8256 - val_loss: 0.7884 - val_categorical_accuracy: 0.7300\n",
    "\n",
    "```\n",
    "\n"
   ]
  },
  {
   "cell_type": "markdown",
   "metadata": {
    "id": "BiVmV_njQuuh"
   },
   "source": [
    "###### For the above model the best validation accuracy is 73%"
   ]
  },
  {
   "cell_type": "markdown",
   "metadata": {
    "id": "-cRn9Sj8Quuh"
   },
   "source": [
    "## Model 4 - CNN- LSTM Model"
   ]
  },
  {
   "cell_type": "code",
   "execution_count": 86,
   "metadata": {
    "id": "oaQH4GXfQuui"
   },
   "outputs": [],
   "source": [
    "\n",
    "image_height = 120\n",
    "image_width = 120\n",
    "frames_to_sample = 18\n",
    "batch_size = 20\n",
    "num_epochs = 20\n",
    "\n",
    "\n",
    "model = Sequential()\n",
    "\n",
    "model.add(TimeDistributed(Conv2D(16, (3, 3) , padding='same', activation='relu'),\n",
    "                          input_shape=(frames_to_sample,image_height,image_width,3)))\n",
    "model.add(TimeDistributed(BatchNormalization()))\n",
    "model.add(TimeDistributed(MaxPooling2D((2, 2))))\n",
    "\n",
    "model.add(TimeDistributed(Conv2D(32, (3, 3) , padding='same', activation='relu')))\n",
    "model.add(TimeDistributed(BatchNormalization()))\n",
    "model.add(TimeDistributed(MaxPooling2D((2, 2))))\n",
    "\n",
    "model.add(TimeDistributed(Conv2D(64, (3, 3) , padding='same', activation='relu')))\n",
    "model.add(TimeDistributed(BatchNormalization()))\n",
    "model.add(TimeDistributed(MaxPooling2D((2, 2))))\n",
    "\n",
    "model.add(TimeDistributed(Conv2D(128, (3, 3) , padding='same', activation='relu')))\n",
    "model.add(TimeDistributed(BatchNormalization()))\n",
    "model.add(TimeDistributed(MaxPooling2D((2, 2))))\n",
    "\n",
    "model.add(TimeDistributed(Conv2D(256, (3, 3) , padding='same', activation='relu')))\n",
    "model.add(TimeDistributed(BatchNormalization()))\n",
    "model.add(TimeDistributed(MaxPooling2D((2, 2))))\n",
    "\n",
    "\n",
    "model.add(TimeDistributed(Flatten()))\n",
    "\n",
    "\n",
    "model.add(LSTM(128))\n",
    "model.add(Dropout(0.25))\n",
    "\n",
    "model.add(Dense(128,activation='relu'))\n",
    "model.add(Dropout(0.25))\n",
    "\n",
    "model.add(Dense(num_classes, activation='softmax'))"
   ]
  },
  {
   "cell_type": "code",
   "execution_count": 87,
   "metadata": {
    "colab": {
     "base_uri": "https://localhost:8080/"
    },
    "id": "NW-lcBxiQuui",
    "outputId": "1cbef891-17f9-4fb1-84cd-e2d393360fae"
   },
   "outputs": [
    {
     "name": "stdout",
     "output_type": "stream",
     "text": [
      "Model: \"sequential_12\"\n",
      "_________________________________________________________________\n",
      "Layer (type)                 Output Shape              Param #   \n",
      "=================================================================\n",
      "time_distributed_16 (TimeDis (None, 18, 120, 120, 16)  448       \n",
      "_________________________________________________________________\n",
      "time_distributed_17 (TimeDis (None, 18, 120, 120, 16)  64        \n",
      "_________________________________________________________________\n",
      "time_distributed_18 (TimeDis (None, 18, 60, 60, 16)    0         \n",
      "_________________________________________________________________\n",
      "time_distributed_19 (TimeDis (None, 18, 60, 60, 32)    4640      \n",
      "_________________________________________________________________\n",
      "time_distributed_20 (TimeDis (None, 18, 60, 60, 32)    128       \n",
      "_________________________________________________________________\n",
      "time_distributed_21 (TimeDis (None, 18, 30, 30, 32)    0         \n",
      "_________________________________________________________________\n",
      "time_distributed_22 (TimeDis (None, 18, 30, 30, 64)    18496     \n",
      "_________________________________________________________________\n",
      "time_distributed_23 (TimeDis (None, 18, 30, 30, 64)    256       \n",
      "_________________________________________________________________\n",
      "time_distributed_24 (TimeDis (None, 18, 15, 15, 64)    0         \n",
      "_________________________________________________________________\n",
      "time_distributed_25 (TimeDis (None, 18, 15, 15, 128)   73856     \n",
      "_________________________________________________________________\n",
      "time_distributed_26 (TimeDis (None, 18, 15, 15, 128)   512       \n",
      "_________________________________________________________________\n",
      "time_distributed_27 (TimeDis (None, 18, 7, 7, 128)     0         \n",
      "_________________________________________________________________\n",
      "time_distributed_28 (TimeDis (None, 18, 7, 7, 256)     295168    \n",
      "_________________________________________________________________\n",
      "time_distributed_29 (TimeDis (None, 18, 7, 7, 256)     1024      \n",
      "_________________________________________________________________\n",
      "time_distributed_30 (TimeDis (None, 18, 3, 3, 256)     0         \n",
      "_________________________________________________________________\n",
      "time_distributed_31 (TimeDis (None, 18, 2304)          0         \n",
      "_________________________________________________________________\n",
      "lstm_1 (LSTM)                (None, 128)               1245696   \n",
      "_________________________________________________________________\n",
      "dropout_24 (Dropout)         (None, 128)               0         \n",
      "_________________________________________________________________\n",
      "dense_35 (Dense)             (None, 128)               16512     \n",
      "_________________________________________________________________\n",
      "dropout_25 (Dropout)         (None, 128)               0         \n",
      "_________________________________________________________________\n",
      "dense_36 (Dense)             (None, 5)                 645       \n",
      "=================================================================\n",
      "Total params: 1,657,445\n",
      "Trainable params: 1,656,453\n",
      "Non-trainable params: 992\n",
      "_________________________________________________________________\n",
      "None\n"
     ]
    }
   ],
   "source": [
    "optimiser = tf.keras.optimizers.Adam(lr=0.0002)\n",
    "model.compile(optimizer=optimiser, loss='categorical_crossentropy', metrics=['categorical_accuracy'])\n",
    "print (model.summary())"
   ]
  },
  {
   "cell_type": "code",
   "execution_count": 88,
   "metadata": {
    "colab": {
     "base_uri": "https://localhost:8080/"
    },
    "id": "jkirqJ1_Quui",
    "outputId": "636735e0-b5f7-4009-b6d4-e205d61ad44e"
   },
   "outputs": [
    {
     "name": "stdout",
     "output_type": "stream",
     "text": [
      "Total Params: 1657445\n"
     ]
    }
   ],
   "source": [
    "train_generator = generator(train_path, train_doc, batch_size)\n",
    "val_generator = generator(val_path, val_doc, batch_size)\n",
    "\n",
    "\n",
    "print(\"Total Params:\", model.count_params())\n",
    "# model.fit(train_generator, steps_per_epoch=steps_per_epoch, epochs=num_epochs, verbose=1, \n",
    "#                     callbacks=callbacks_list, validation_data=val_generator, \n",
    "#                     validation_steps=validation_steps, class_weight=None, workers=1, initial_epoch=0)"
   ]
  },
  {
   "cell_type": "markdown",
   "metadata": {
    "id": "fwgQgfHYXPWo"
   },
   "source": [
    "```\n",
    "Total Params: 1657445\n",
    "Epoch 1/20\n",
    "34/34 [==============================] - 170s 5s/step - loss: 1.4207 - categorical_accuracy: 0.3863 - val_loss: 1.2887 - val_categorical_accuracy: 0.4100\n",
    "\n",
    "Epoch 2/20\n",
    "34/34 [==============================] - 91s 3s/step - loss: 1.1351 - categorical_accuracy: 0.5416 - val_loss: 1.1954 - val_categorical_accuracy: 0.5100\n",
    "\n",
    "Epoch 3/20\n",
    "34/34 [==============================] - 98s 3s/step - loss: 1.0247 - categorical_accuracy: 0.5887 - val_loss: 1.5070 - val_categorical_accuracy: 0.3900\n",
    "\n",
    "Epoch 4/20\n",
    "34/34 [==============================] - 97s 3s/step - loss: 0.9791 - categorical_accuracy: 0.6100 - val_loss: 1.0382 - val_categorical_accuracy: 0.5900\n",
    "\n",
    "Epoch 5/20\n",
    "34/34 [==============================] - 98s 3s/step - loss: 0.8307 - categorical_accuracy: 0.6784 - val_loss: 1.0063 - val_categorical_accuracy: 0.5700\n",
    "\n",
    "Epoch 6/20\n",
    "34/34 [==============================] - 99s 3s/step - loss: 0.7376 - categorical_accuracy: 0.7086 - val_loss: 1.3649 - val_categorical_accuracy: 0.5500\n",
    "\n",
    "Epoch 7/20\n",
    "34/34 [==============================] - 98s 3s/step - loss: 0.7541 - categorical_accuracy: 0.6906 - val_loss: 1.0793 - val_categorical_accuracy: 0.5800\n",
    "\n",
    "Epoch 8/20\n",
    "34/34 [==============================] - 97s 3s/step - loss: 0.7483 - categorical_accuracy: 0.7009 - val_loss: 1.6142 - val_categorical_accuracy: 0.4100\n",
    "\n",
    "Epoch 9/20\n",
    "34/34 [==============================] - 97s 3s/step - loss: 0.5998 - categorical_accuracy: 0.7656 - val_loss: 2.3569 - val_categorical_accuracy: 0.3600\n",
    "\n",
    "Epoch 00009: ReduceLROnPlateau reducing learning rate to 0.00020000000949949026.\n",
    "Epoch 10/20\n",
    "34/34 [==============================] - 96s 3s/step - loss: 0.5339 - categorical_accuracy: 0.7954 - val_loss: 1.2725 - val_categorical_accuracy: 0.6000\n",
    "\n",
    "Epoch 11/20\n",
    "34/34 [==============================] - 97s 3s/step - loss: 0.4418 - categorical_accuracy: 0.8285 - val_loss: 1.0670 - val_categorical_accuracy: 0.6300\n",
    "\n",
    "Epoch 12/20\n",
    "34/34 [==============================] - 96s 3s/step - loss: 0.3509 - categorical_accuracy: 0.8620 - val_loss: 0.7843 - val_categorical_accuracy: 0.7000\n",
    "\n",
    "Epoch 13/20\n",
    "34/34 [==============================] - 97s 3s/step - loss: 0.3448 - categorical_accuracy: 0.8837 - val_loss: 0.6839 - val_categorical_accuracy: 0.7700\n",
    "\n",
    "Epoch 14/20\n",
    "34/34 [==============================] - 97s 3s/step - loss: 0.3480 - categorical_accuracy: 0.8771 - val_loss: 0.6381 - val_categorical_accuracy: 0.7800\n",
    "\n",
    "Epoch 15/20\n",
    "34/34 [==============================] - 96s 3s/step - loss: 0.3060 - categorical_accuracy: 0.8970 - val_loss: 0.6599 - val_categorical_accuracy: 0.7700\n",
    "\n",
    "Epoch 16/20\n",
    "34/34 [==============================] - 96s 3s/step - loss: 0.2478 - categorical_accuracy: 0.9110 - val_loss: 0.6088 - val_categorical_accuracy: 0.7500\n",
    "\n",
    "Epoch 17/20\n",
    "34/34 [==============================] - 96s 3s/step - loss: 0.2468 - categorical_accuracy: 0.9117 - val_loss: 0.5588 - val_categorical_accuracy: 0.7800\n",
    "\n",
    "Epoch 18/20\n",
    "34/34 [==============================] - 96s 3s/step - loss: 0.2203 - categorical_accuracy: 0.9191 - val_loss: 0.5375 - val_categorical_accuracy: 0.8100\n",
    "\n",
    "Epoch 19/20\n",
    "34/34 [==============================] - 95s 3s/step - loss: 0.2027 - categorical_accuracy: 0.9367 - val_loss: 0.5269 - val_categorical_accuracy: 0.8200\n",
    "\n",
    "Epoch 20/20\n",
    "34/34 [==============================] - 96s 3s/step - loss: 0.1924 - categorical_accuracy: 0.9367 - val_loss: 0.4570 - val_categorical_accuracy: 0.8500\n",
    "\n",
    "\n",
    "```\n",
    "\n"
   ]
  },
  {
   "cell_type": "markdown",
   "metadata": {
    "collapsed": true,
    "id": "99R1eB13Quuj"
   },
   "source": [
    "##### In CNN - LSTM model we get the best validation accuracy of 85%"
   ]
  },
  {
   "cell_type": "markdown",
   "metadata": {
    "id": "Lrasvah0Quuj"
   },
   "source": [
    "\n",
    "## Finally, we can go ahead with Model 4 : CNN +  LSTM\n",
    "\n",
    "__Reason:__\n",
    "\n",
    "__- Training Accuracy : 93%, Validation Accuracy : 85%__\n",
    "\n",
    "__- Number of Parameters (1,657,445)__\n",
    "\n",
    "__- Learning rate gradually decreacing after 16 Epoch__\n",
    "\n",
    "Note : The weight for this model is saved in final_model.h5 file attached with the zip file"
   ]
  },
  {
   "cell_type": "markdown",
   "metadata": {
    "id": "Lc9NBApKQuuj"
   },
   "source": [
    "# Loading model and Testing"
   ]
  },
  {
   "cell_type": "code",
   "execution_count": 89,
   "metadata": {
    "colab": {
     "base_uri": "https://localhost:8080/"
    },
    "id": "Fr1idd7qQuuk",
    "outputId": "8658c85c-671b-4431-86b8-faeb60acd3c0"
   },
   "outputs": [
    {
     "name": "stdout",
     "output_type": "stream",
     "text": [
      "WARNING:tensorflow:Layer lstm_1 will not use cuDNN kernels since it doesn't meet the criteria. It will use a generic GPU kernel as fallback when running on GPU.\n"
     ]
    }
   ],
   "source": [
    "import tensorflow as tf\n",
    "model = tf.keras.models.load_model('final_model.h5')"
   ]
  },
  {
   "cell_type": "code",
   "execution_count": 90,
   "metadata": {
    "colab": {
     "base_uri": "https://localhost:8080/"
    },
    "id": "zDKdvNFxQuuk",
    "outputId": "eef91ad3-2855-4b39-ccf4-37a0f7d5f707"
   },
   "outputs": [
    {
     "name": "stdout",
     "output_type": "stream",
     "text": [
      "Source path =  /content/gdrive/My Drive/Upgrad/Gesture Recognition/Project_data/val ; batch size = 20\n"
     ]
    }
   ],
   "source": [
    "val_generator = generator(val_path, val_doc, batch_size)\n",
    "\n",
    "batch_data, batch_labels=next(val_generator)"
   ]
  },
  {
   "cell_type": "code",
   "execution_count": 91,
   "metadata": {
    "colab": {
     "base_uri": "https://localhost:8080/"
    },
    "id": "42x3hvgyQuul",
    "outputId": "144a2652-f7e3-458d-b89a-4ec58850902d"
   },
   "outputs": [
    {
     "data": {
      "text/plain": [
       "array([[1., 0., 0., 0., 0.],\n",
       "       [0., 0., 1., 0., 0.],\n",
       "       [0., 1., 0., 0., 0.],\n",
       "       [0., 0., 1., 0., 0.],\n",
       "       [0., 1., 0., 0., 0.],\n",
       "       [1., 0., 0., 0., 0.],\n",
       "       [0., 0., 1., 0., 0.],\n",
       "       [0., 1., 0., 0., 0.],\n",
       "       [0., 0., 0., 1., 0.],\n",
       "       [0., 1., 0., 0., 0.],\n",
       "       [0., 0., 0., 0., 1.],\n",
       "       [0., 1., 0., 0., 0.],\n",
       "       [0., 0., 0., 1., 0.],\n",
       "       [0., 0., 1., 0., 0.],\n",
       "       [0., 0., 1., 0., 0.],\n",
       "       [1., 0., 0., 0., 0.],\n",
       "       [0., 1., 0., 0., 0.],\n",
       "       [0., 0., 0., 0., 1.],\n",
       "       [0., 1., 0., 0., 0.],\n",
       "       [1., 0., 0., 0., 0.]])"
      ]
     },
     "execution_count": 91,
     "metadata": {},
     "output_type": "execute_result"
    }
   ],
   "source": [
    "batch_labels"
   ]
  },
  {
   "cell_type": "code",
   "execution_count": 92,
   "metadata": {
    "colab": {
     "base_uri": "https://localhost:8080/"
    },
    "id": "ESkgkgZBQuul",
    "outputId": "42fd7ec6-18de-4a36-85c1-61f187163388"
   },
   "outputs": [
    {
     "name": "stdout",
     "output_type": "stream",
     "text": [
      "[0 2 1 2 1 0 2 1 3 1 2 1 3 2 2 1 1 4 1 0]\n"
     ]
    }
   ],
   "source": [
    "print(np.argmax(model.predict(batch_data[:,:,:,:,:]),axis=1))"
   ]
  },
  {
   "cell_type": "markdown",
   "metadata": {
    "id": "_1IqUZOZUfXa"
   },
   "source": [
    "### As we can see, out model is performing very well on validation data batch. SO now we can try our model on Test Set and check how our model would perform in real life scenario."
   ]
  },
  {
   "cell_type": "code",
   "execution_count": null,
   "metadata": {
    "id": "g8LQ5_-MUI8v"
   },
   "outputs": [],
   "source": []
  }
 ],
 "metadata": {
  "accelerator": "GPU",
  "colab": {
   "collapsed_sections": [],
   "name": "Gesture_Recognition_Case-Study_final.ipynb",
   "provenance": []
  },
  "kernelspec": {
   "display_name": "Python 3",
   "language": "python",
   "name": "python3"
  },
  "language_info": {
   "codemirror_mode": {
    "name": "ipython",
    "version": 3
   },
   "file_extension": ".py",
   "mimetype": "text/x-python",
   "name": "python",
   "nbconvert_exporter": "python",
   "pygments_lexer": "ipython3",
   "version": "3.8.5"
  }
 },
 "nbformat": 4,
 "nbformat_minor": 1
}
